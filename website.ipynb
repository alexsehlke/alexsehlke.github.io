{
 "cells": [
  {
   "cell_type": "raw",
   "id": "dbcded27-a4a4-4f24-b029-185d01991606",
   "metadata": {},
   "source": [
    "---\n",
    "title: \"Website Test\"\n",
    "author: \"Alex Sehlke\"\n",
    "toc: true\n",
    "number-sections: true\n",
    "highlight-style: pygments\n",
    "format:\n",
    "  html: \n",
    "    code-fold: true\n",
    "    html-math-method: katex\n",
    "  pdf:\n",
    "    geometry: \n",
    "      - top=30mm\n",
    "      - left=30mm\n",
    "  docx: default\n",
    "---"
   ]
  },
  {
   "cell_type": "code",
   "execution_count": null,
   "id": "e0df07e8-63eb-4b0c-839a-4aed31c2423b",
   "metadata": {},
   "outputs": [],
   "source": []
  }
 ],
 "metadata": {
  "kernelspec": {
   "display_name": "Python 3 (ipykernel)",
   "language": "python",
   "name": "python3"
  },
  "language_info": {
   "codemirror_mode": {
    "name": "ipython",
    "version": 3
   },
   "file_extension": ".py",
   "mimetype": "text/x-python",
   "name": "python",
   "nbconvert_exporter": "python",
   "pygments_lexer": "ipython3",
   "version": "3.11.5"
  }
 },
 "nbformat": 4,
 "nbformat_minor": 5
}
